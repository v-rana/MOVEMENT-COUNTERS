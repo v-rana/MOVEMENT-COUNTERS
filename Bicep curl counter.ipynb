{
 "cells": [
  {
   "cell_type": "code",
   "execution_count": 2,
   "id": "72037d35",
   "metadata": {},
   "outputs": [],
   "source": [
    "import cv2\n",
    "import mediapipe as mp\n",
    "import numpy as np\n",
    "mp_drawing = mp.solutions.drawing_utils\n",
    "mp_drawing_styles = mp.solutions.drawing_styles\n",
    "mp_pose = mp.solutions.pose"
   ]
  },
  {
   "cell_type": "code",
   "execution_count": 3,
   "id": "06a163ed",
   "metadata": {},
   "outputs": [],
   "source": [
    "def angle(a,b,c):\n",
    "    a = np.array(a) # First\n",
    "    b = np.array(b) # Mid\n",
    "    c = np.array(c) # End\n",
    "    \n",
    "    radians = np.arctan2(c[1]-b[1], c[0]-b[0]) - np.arctan2(a[1]-b[1], a[0]-b[0])\n",
    "    angle = np.abs(radians*180.0/np.pi)\n",
    "    \n",
    "    if angle >180.0:\n",
    "        angle = 360-angle\n",
    "        \n",
    "    return angle "
   ]
  },
  {
   "cell_type": "code",
   "execution_count": 5,
   "id": "a1553c87",
   "metadata": {},
   "outputs": [],
   "source": [
    "cap = cv2.VideoCapture(0)\n",
    "counter = 0 \n",
    "stage = None\n",
    "k = 0\n",
    "with mp_pose.Pose(min_detection_confidence=0.5,min_tracking_confidence = 0.5) as pose:\n",
    "    while cap.isOpened():\n",
    "        ret , frame = cap.read()\n",
    "        #image pre processing________________________________________________________________________________________\n",
    "        img = cv2.cvtColor(frame,cv2.COLOR_BGR2RGB)\n",
    "        img.flags.writeable = False\n",
    "        #processing__________________________________________________________________________________________________\n",
    "        result = pose.process(img)\n",
    "        #reverting the image back to original state__________________________________________________________________\n",
    "        img = cv2.cvtColor(img,cv2.COLOR_RGB2BGR)\n",
    "        img.flags.writeable = True\n",
    "        \n",
    "        #Taking landmarks and finding angles__________________________________________________________________________\n",
    "        try:\n",
    "            landmarks = result.pose_landmarks.landmark\n",
    "            shoulder  = [landmarks[mp_pose.PoseLandmark.LEFT_SHOULDER.value].x,\n",
    "                         landmarks[mp_pose.PoseLandmark.LEFT_SHOULDER.value].y]\n",
    "            elbow     = [landmarks[mp_pose.PoseLandmark.LEFT_ELBOW.value].x,\n",
    "                         landmarks[mp_pose.PoseLandmark.LEFT_ELBOW.value].y]\n",
    "            wrist     = [landmarks[mp_pose.PoseLandmark.LEFT_WRIST.value].x, \n",
    "                         landmarks[mp_pose.PoseLandmark.LEFT_WRIST.value].y]\n",
    "            k         = angle(shoulder,elbow,wrist)\n",
    "            cv2.putText(img, str(k), tuple(np.multiply(elbow, [640, 480]).astype(int)), \n",
    "                        cv2.FONT_HERSHEY_SIMPLEX, 0.5, (255, 255, 255), 2, cv2.LINE_AA)\n",
    "            \n",
    "            if k >150 :        \n",
    "                stage = 'down'\n",
    "            elif k<50 and stage == 'down' :\n",
    "                counter = counter +1\n",
    "                stage = 'up'\n",
    "                print(counter)   \n",
    "        except:\n",
    "            pass\n",
    "        \n",
    "        #Rendering , pose_landmarks , pose connections_____________________________________________________ \n",
    "        mp_drawing.draw_landmarks(img,result.pose_landmarks,mp_pose.POSE_CONNECTIONS,\n",
    "                                  mp_drawing.DrawingSpec(color = (245,66,11),thickness = 2,circle_radius = 1),\n",
    "                                  mp_drawing.DrawingSpec(color = (34,65,31),thickness = 2,circle_radius = 2))\n",
    "        \n",
    "        \n",
    "        #stage and curl progress visualizing_____________________________________________________________________\n",
    "        end_point = tuple([30,int(k)])\n",
    "        cv2.rectangle(img, (0,0), end_point, (245,247,16), -1)\n",
    "        cv2.putText(img, stage, (60,60),cv2.FONT_HERSHEY_SIMPLEX, 2, (255,255,255), 2, cv2.LINE_AA)\n",
    "        #________________________________________________________________________________________________________\n",
    "        cv2.imshow(\"counter\",img)\n",
    "        if cv2.waitKey(10) & 0xFF == ord('q'):\n",
    "            break\n",
    "    cap.release()\n",
    "    cv2.destroyAllWindows()"
   ]
  }
 ],
 "metadata": {
  "kernelspec": {
   "display_name": "Python 3 (ipykernel)",
   "language": "python",
   "name": "python3"
  },
  "language_info": {
   "codemirror_mode": {
    "name": "ipython",
    "version": 3
   },
   "file_extension": ".py",
   "mimetype": "text/x-python",
   "name": "python",
   "nbconvert_exporter": "python",
   "pygments_lexer": "ipython3",
   "version": "3.8.5"
  }
 },
 "nbformat": 4,
 "nbformat_minor": 5
}
